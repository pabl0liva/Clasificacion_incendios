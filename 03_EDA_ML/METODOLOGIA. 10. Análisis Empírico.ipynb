{
 "cells": [
  {
   "cell_type": "code",
   "execution_count": null,
   "metadata": {},
   "outputs": [],
   "source": [
    "#Cargamos librerias"
   ]
  },
  {
   "cell_type": "code",
   "execution_count": 1,
   "metadata": {},
   "outputs": [],
   "source": [
    "import pandas as pd\n",
    "import numpy as np\n",
    "import seaborn as sns\n",
    "import matplotlib.pyplot as plt\n",
    "from sklearn.ensemble import RandomForestClassifier\n",
    "from sklearn.metrics import accuracy_score, auc, confusion_matrix, f1_score, precision_score, recall_score, roc_curve\n",
    "from imblearn.over_sampling import SMOTE\n",
    "from collections import Counter\n",
    "import sklearn\n",
    "from sklearn import preprocessing\n",
    "from sklearn.feature_selection import SelectKBest\n",
    "from sklearn.feature_selection import f_regression \n",
    "from sklearn.feature_selection import chi2 \n",
    "from sklearn.model_selection import cross_val_score\n",
    "import numpy as np\n",
    "from sklearn.ensemble import RandomForestClassifier\n",
    "from sklearn.experimental import enable_hist_gradient_boosting\n",
    "from sklearn.ensemble import HistGradientBoostingClassifier\n",
    "from sklearn.ensemble import GradientBoostingClassifier\n",
    "from sklearn.neighbors import KNeighborsClassifier\n",
    "from sklearn.svm import LinearSVC\n",
    "from sklearn.calibration import CalibratedClassifierCV\n",
    "from xgboost import XGBClassifier\n",
    "from sklearn.datasets import load_boston\n",
    "from sklearn.ensemble import GradientBoostingClassifier\n",
    "from sklearn.metrics import accuracy_score\n",
    "from sklearn.metrics import confusion_matrix\n",
    "from sklearn.compose import ColumnTransformer\n",
    "from sklearn.preprocessing import OneHotEncoder\n",
    "from sklearn.model_selection import cross_val_score\n",
    "from sklearn.model_selection import train_test_split\n",
    "from sklearn.model_selection import RepeatedKFold\n",
    "from sklearn.model_selection import GridSearchCV\n",
    "from sklearn.model_selection import ParameterGrid\n",
    "from sklearn.inspection import permutation_importance\n",
    "import multiprocessing"
   ]
  },
  {
   "cell_type": "code",
   "execution_count": null,
   "metadata": {},
   "outputs": [],
   "source": [
    "#Leemos el nuestra base de datos incendios_fin_base4.csv"
   ]
  },
  {
   "cell_type": "code",
   "execution_count": 2,
   "metadata": {
    "id": "CJryH7HreWz5"
   },
   "outputs": [],
   "source": [
    "dfInc = pd.read_csv(\"incendios_fin_base4.csv\", dtype = {'COD_AEMET': object}, encoding = \"UTF-8\")"
   ]
  },
  {
   "cell_type": "code",
   "execution_count": 3,
   "metadata": {
    "colab": {
     "base_uri": "https://localhost:8080/"
    },
    "id": "hr3ZZW2ReWz_",
    "outputId": "929bbf95-ac67-4690-e9dd-54755636f5e5"
   },
   "outputs": [
    {
     "data": {
      "text/plain": [
       "id                    0\n",
       "latitude              0\n",
       "longitude             0\n",
       "idcomunidad           0\n",
       "comunidad             0\n",
       "idprovincia           0\n",
       "provincia             0\n",
       "COD_AEMET             0\n",
       "municipio             0\n",
       "zona                  0\n",
       "altitud               0\n",
       "poblacion_muni        0\n",
       "superficie_muni       0\n",
       "id_zona_meteo         0\n",
       "zona_meteo            0\n",
       "NATCODE               0\n",
       "fecha                 0\n",
       "tmax                  0\n",
       "tmin                  0\n",
       "racha                 0\n",
       "prec                  0\n",
       "velmedia              0\n",
       "dir                   0\n",
       "fe_month              0\n",
       "superficie            0\n",
       "superficie_quemada    0\n",
       "dtype: int64"
      ]
     },
     "execution_count": 3,
     "metadata": {},
     "output_type": "execute_result"
    }
   ],
   "source": [
    "dfInc.isna().sum()"
   ]
  },
  {
   "cell_type": "code",
   "execution_count": 4,
   "metadata": {
    "colab": {
     "base_uri": "https://localhost:8080/",
     "height": 307
    },
    "id": "HWVNLw7TfnJZ",
    "outputId": "f45dc22d-29a0-40a2-ed8e-6689b961b7a4"
   },
   "outputs": [
    {
     "data": {
      "text/html": [
       "<div>\n",
       "<style scoped>\n",
       "    .dataframe tbody tr th:only-of-type {\n",
       "        vertical-align: middle;\n",
       "    }\n",
       "\n",
       "    .dataframe tbody tr th {\n",
       "        vertical-align: top;\n",
       "    }\n",
       "\n",
       "    .dataframe thead th {\n",
       "        text-align: right;\n",
       "    }\n",
       "</style>\n",
       "<table border=\"1\" class=\"dataframe\">\n",
       "  <thead>\n",
       "    <tr style=\"text-align: right;\">\n",
       "      <th></th>\n",
       "      <th>id</th>\n",
       "      <th>latitude</th>\n",
       "      <th>longitude</th>\n",
       "      <th>idcomunidad</th>\n",
       "      <th>comunidad</th>\n",
       "      <th>idprovincia</th>\n",
       "      <th>provincia</th>\n",
       "      <th>COD_AEMET</th>\n",
       "      <th>municipio</th>\n",
       "      <th>zona</th>\n",
       "      <th>...</th>\n",
       "      <th>fecha</th>\n",
       "      <th>tmax</th>\n",
       "      <th>tmin</th>\n",
       "      <th>racha</th>\n",
       "      <th>prec</th>\n",
       "      <th>velmedia</th>\n",
       "      <th>dir</th>\n",
       "      <th>fe_month</th>\n",
       "      <th>superficie</th>\n",
       "      <th>superficie_quemada</th>\n",
       "    </tr>\n",
       "  </thead>\n",
       "  <tbody>\n",
       "    <tr>\n",
       "      <th>0</th>\n",
       "      <td>2003010036</td>\n",
       "      <td>42.847480</td>\n",
       "      <td>-2.498224</td>\n",
       "      <td>16</td>\n",
       "      <td>País Vasco</td>\n",
       "      <td>1</td>\n",
       "      <td>Araba/Álava</td>\n",
       "      <td>01001</td>\n",
       "      <td>Alegría-Dulantzi</td>\n",
       "      <td>Noroeste</td>\n",
       "      <td>...</td>\n",
       "      <td>2003-09-21</td>\n",
       "      <td>29.3</td>\n",
       "      <td>11.4</td>\n",
       "      <td>7.8</td>\n",
       "      <td>0</td>\n",
       "      <td>1.1</td>\n",
       "      <td>S</td>\n",
       "      <td>9</td>\n",
       "      <td>5.23</td>\n",
       "      <td>Incendio_Mediano</td>\n",
       "    </tr>\n",
       "    <tr>\n",
       "      <th>1</th>\n",
       "      <td>2001010030</td>\n",
       "      <td>43.010649</td>\n",
       "      <td>-2.926375</td>\n",
       "      <td>16</td>\n",
       "      <td>País Vasco</td>\n",
       "      <td>1</td>\n",
       "      <td>Araba/Álava</td>\n",
       "      <td>01002</td>\n",
       "      <td>Amurrio</td>\n",
       "      <td>Noroeste</td>\n",
       "      <td>...</td>\n",
       "      <td>2001-08-27</td>\n",
       "      <td>31.9</td>\n",
       "      <td>16.3</td>\n",
       "      <td>8.3</td>\n",
       "      <td>0</td>\n",
       "      <td>1.7</td>\n",
       "      <td>NE</td>\n",
       "      <td>8</td>\n",
       "      <td>16.61</td>\n",
       "      <td>Incendio_Mediano</td>\n",
       "    </tr>\n",
       "    <tr>\n",
       "      <th>2</th>\n",
       "      <td>2004010037</td>\n",
       "      <td>43.001667</td>\n",
       "      <td>-2.987731</td>\n",
       "      <td>16</td>\n",
       "      <td>País Vasco</td>\n",
       "      <td>1</td>\n",
       "      <td>Araba/Álava</td>\n",
       "      <td>01002</td>\n",
       "      <td>Amurrio</td>\n",
       "      <td>Noroeste</td>\n",
       "      <td>...</td>\n",
       "      <td>2004-09-01</td>\n",
       "      <td>28.0</td>\n",
       "      <td>11.6</td>\n",
       "      <td>7.8</td>\n",
       "      <td>1</td>\n",
       "      <td>1.4</td>\n",
       "      <td>O</td>\n",
       "      <td>9</td>\n",
       "      <td>3.66</td>\n",
       "      <td>Incendio_Pequeno</td>\n",
       "    </tr>\n",
       "    <tr>\n",
       "      <th>3</th>\n",
       "      <td>2002010005</td>\n",
       "      <td>43.010649</td>\n",
       "      <td>-2.926375</td>\n",
       "      <td>16</td>\n",
       "      <td>País Vasco</td>\n",
       "      <td>1</td>\n",
       "      <td>Araba/Álava</td>\n",
       "      <td>01002</td>\n",
       "      <td>Amurrio</td>\n",
       "      <td>Noroeste</td>\n",
       "      <td>...</td>\n",
       "      <td>2002-01-29</td>\n",
       "      <td>16.0</td>\n",
       "      <td>9.6</td>\n",
       "      <td>6.9</td>\n",
       "      <td>0</td>\n",
       "      <td>2.2</td>\n",
       "      <td>S</td>\n",
       "      <td>1</td>\n",
       "      <td>4.00</td>\n",
       "      <td>Incendio_Pequeno</td>\n",
       "    </tr>\n",
       "    <tr>\n",
       "      <th>4</th>\n",
       "      <td>2001010027</td>\n",
       "      <td>43.010649</td>\n",
       "      <td>-2.926375</td>\n",
       "      <td>16</td>\n",
       "      <td>País Vasco</td>\n",
       "      <td>1</td>\n",
       "      <td>Araba/Álava</td>\n",
       "      <td>01002</td>\n",
       "      <td>Amurrio</td>\n",
       "      <td>Noroeste</td>\n",
       "      <td>...</td>\n",
       "      <td>2001-08-22</td>\n",
       "      <td>24.8</td>\n",
       "      <td>14.7</td>\n",
       "      <td>6.7</td>\n",
       "      <td>0</td>\n",
       "      <td>0.6</td>\n",
       "      <td>NE</td>\n",
       "      <td>8</td>\n",
       "      <td>4.13</td>\n",
       "      <td>Incendio_Pequeno</td>\n",
       "    </tr>\n",
       "  </tbody>\n",
       "</table>\n",
       "<p>5 rows × 26 columns</p>\n",
       "</div>"
      ],
      "text/plain": [
       "           id   latitude  longitude  idcomunidad   comunidad  idprovincia  \\\n",
       "0  2003010036  42.847480  -2.498224           16  País Vasco            1   \n",
       "1  2001010030  43.010649  -2.926375           16  País Vasco            1   \n",
       "2  2004010037  43.001667  -2.987731           16  País Vasco            1   \n",
       "3  2002010005  43.010649  -2.926375           16  País Vasco            1   \n",
       "4  2001010027  43.010649  -2.926375           16  País Vasco            1   \n",
       "\n",
       "     provincia COD_AEMET         municipio      zona  ...       fecha  tmax  \\\n",
       "0  Araba/Álava     01001  Alegría-Dulantzi  Noroeste  ...  2003-09-21  29.3   \n",
       "1  Araba/Álava     01002           Amurrio  Noroeste  ...  2001-08-27  31.9   \n",
       "2  Araba/Álava     01002           Amurrio  Noroeste  ...  2004-09-01  28.0   \n",
       "3  Araba/Álava     01002           Amurrio  Noroeste  ...  2002-01-29  16.0   \n",
       "4  Araba/Álava     01002           Amurrio  Noroeste  ...  2001-08-22  24.8   \n",
       "\n",
       "   tmin  racha prec  velmedia dir  fe_month  superficie  superficie_quemada  \n",
       "0  11.4    7.8    0       1.1   S         9        5.23    Incendio_Mediano  \n",
       "1  16.3    8.3    0       1.7  NE         8       16.61    Incendio_Mediano  \n",
       "2  11.6    7.8    1       1.4   O         9        3.66    Incendio_Pequeno  \n",
       "3   9.6    6.9    0       2.2   S         1        4.00    Incendio_Pequeno  \n",
       "4  14.7    6.7    0       0.6  NE         8        4.13    Incendio_Pequeno  \n",
       "\n",
       "[5 rows x 26 columns]"
      ]
     },
     "execution_count": 4,
     "metadata": {},
     "output_type": "execute_result"
    }
   ],
   "source": [
    "# display updated DataFrame\n",
    "dfInc.head()"
   ]
  },
  {
   "cell_type": "code",
   "execution_count": null,
   "metadata": {},
   "outputs": [],
   "source": [
    "#Variable objetivo"
   ]
  },
  {
   "cell_type": "code",
   "execution_count": 5,
   "metadata": {
    "id": "dcu-G97hpOtl"
   },
   "outputs": [],
   "source": [
    "dfInc = dfInc.rename(columns={'superficie_quemada': 'supQuemada'})"
   ]
  },
  {
   "cell_type": "code",
   "execution_count": 6,
   "metadata": {
    "colab": {
     "base_uri": "https://localhost:8080/"
    },
    "id": "KYAPAs_3eW0R",
    "outputId": "c784d256-b6a2-4200-a41c-52b9f942ab0d"
   },
   "outputs": [
    {
     "data": {
      "text/plain": [
       "Incendio_Pequeno       45078\n",
       "Incendio_Mediano       21320\n",
       "Conato                 10341\n",
       "Incendio_Grande         3013\n",
       "Incendio_Muy_Grande      659\n",
       "Gran_Incendio            358\n",
       "Name: supQuemada, dtype: int64"
      ]
     },
     "execution_count": 6,
     "metadata": {},
     "output_type": "execute_result"
    }
   ],
   "source": [
    "dfInc['supQuemada'].value_counts()"
   ]
  },
  {
   "cell_type": "code",
   "execution_count": 7,
   "metadata": {
    "colab": {
     "base_uri": "https://localhost:8080/"
    },
    "id": "mrzx-VCNeW0O",
    "outputId": "110c8d2a-2cbc-43ef-d74a-2f1194bee3dd"
   },
   "outputs": [
    {
     "data": {
      "text/plain": [
       "Incendio_Pequeno       0.558110\n",
       "Incendio_Mediano       0.263963\n",
       "Conato                 0.128032\n",
       "Incendio_Grande        0.037304\n",
       "Incendio_Muy_Grande    0.008159\n",
       "Gran_Incendio          0.004432\n",
       "Name: supQuemada, dtype: float64"
      ]
     },
     "execution_count": 7,
     "metadata": {},
     "output_type": "execute_result"
    }
   ],
   "source": [
    "dfInc['supQuemada'].value_counts(normalize=True)"
   ]
  },
  {
   "cell_type": "code",
   "execution_count": 8,
   "metadata": {
    "id": "zZ1au6xKeW0f"
   },
   "outputs": [],
   "source": [
    "datos = dfInc.copy()"
   ]
  },
  {
   "cell_type": "code",
   "execution_count": null,
   "metadata": {},
   "outputs": [],
   "source": [
    "#Variables de nuestra base de datos"
   ]
  },
  {
   "cell_type": "code",
   "execution_count": 9,
   "metadata": {
    "colab": {
     "base_uri": "https://localhost:8080/"
    },
    "id": "UfIHP8AVeW0f",
    "outputId": "4185484b-c6a4-47ba-a8aa-54aaa6ed9b8b",
    "scrolled": true
   },
   "outputs": [
    {
     "data": {
      "text/plain": [
       "Index(['id', 'latitude', 'longitude', 'idcomunidad', 'comunidad',\n",
       "       'idprovincia', 'provincia', 'COD_AEMET', 'municipio', 'zona', 'altitud',\n",
       "       'poblacion_muni', 'superficie_muni', 'id_zona_meteo', 'zona_meteo',\n",
       "       'NATCODE', 'fecha', 'tmax', 'tmin', 'racha', 'prec', 'velmedia', 'dir',\n",
       "       'fe_month', 'superficie', 'supQuemada'],\n",
       "      dtype='object')"
      ]
     },
     "execution_count": 9,
     "metadata": {},
     "output_type": "execute_result"
    }
   ],
   "source": [
    "datos.columns"
   ]
  },
  {
   "cell_type": "code",
   "execution_count": 10,
   "metadata": {
    "id": "f23mLOVgeW0h"
   },
   "outputs": [],
   "source": [
    "#Pasamos a número las variables categoricas\n",
    "datos.dir.replace(('NE','C','SE','SO','N','S','O'),\n",
    "                      (1,2,3,4,5,6,7),inplace=True)\n",
    "\n",
    "datos.supQuemada.replace(('Conato', 'Incendio_Pequeno', 'Incendio_Mediano', 'Incendio_Grande', 'Incendio_Muy_Grande','Gran_Incendio'),\n",
    "                     (1,2,3,4,5,6),inplace=True)\n",
    "\n",
    "datos.zona.replace(('Noroeste', 'Interior', 'Mediterráneo', 'Canarias'), \n",
    "                   (1,2,3,4),inplace=True)\n"
   ]
  },
  {
   "cell_type": "code",
   "execution_count": 11,
   "metadata": {
    "id": "tsnKrvJgeW0j"
   },
   "outputs": [],
   "source": [
    "#Pasamos a númerica la variable municipio\n",
    "a = datos.municipio.unique()\n",
    "b = range(1,len(a) + 1)\n",
    "dict_from_list = dict(zip(a, b))\n",
    "datos['idmunicipio'] = datos.municipio.map(dict_from_list)"
   ]
  },
  {
   "cell_type": "code",
   "execution_count": 12,
   "metadata": {
    "id": "jQz-9Sa3eW0j"
   },
   "outputs": [],
   "source": [
    "#Feature engineering\n",
    "##distancia\n",
    "datos[\"dist\"] = np.sqrt(pow(datos[\"longitude\"],2)+pow(datos[\"latitude\"],2))\n",
    "\n",
    "##densidad de poblacion\n",
    "datos[\"densPob\"] = datos[\"poblacion_muni\"]/datos[\"superficie_muni\"]\n",
    "\n",
    "##sensacion termica por frio\n",
    "#datos[\"sensaTerF\"]= 13.1267 + (0.6215*(datos[\"tmax\"]))- pow((11.37*(datos[\"racha\"])),0.16) + pow((0.3965*(datos[\"tmax\"])*(datos[\"racha\"])),0.16)\n",
    "\n",
    "##trimestres\n",
    "conditions = [\n",
    "    (datos['fe_month'] <= 3),\n",
    "    (datos['fe_month'] > 3) & (datos['fe_month'] <= 6),\n",
    "    (datos['fe_month'] > 6) & (datos['fe_month'] < 10),\n",
    "    (datos['fe_month'] >= 10),\n",
    "]\n",
    "values = [1, 2, 3, 4]\n",
    "datos['trimest'] = np.select(conditions, values)\n",
    "\n",
    "##Número de Beaufort con racha\n",
    "conditions = [\n",
    "    (datos['racha'] < 2),\n",
    "    (datos['racha'] >= 2) & (datos['racha'] < 6),\n",
    "    (datos['racha'] >= 6) & (datos['racha'] < 12),\n",
    "    (datos['racha'] >= 12) & (datos['racha'] < 20),\n",
    "    (datos['racha'] >= 20) & (datos['racha'] < 29),\n",
    "    (datos['racha'] >= 29) & (datos['racha'] < 39),\n",
    "    (datos['racha'] >= 39) & (datos['racha'] < 50),\n",
    "]\n",
    "values = [0,1,2,3,4,5,6]\n",
    "datos['beauVelmed'] = np.select(conditions, values)\n",
    "\n",
    "##Número de Beaufort con racha\n",
    "conditions = [\n",
    "    (datos['racha'] < 2),\n",
    "    (datos['racha'] >= 2) & (datos['racha'] < 6),\n",
    "    (datos['racha'] >= 6) & (datos['racha'] < 12),\n",
    "    (datos['racha'] >= 12) & (datos['racha'] < 20),\n",
    "    (datos['racha'] >= 20) & (datos['racha'] < 29),\n",
    "    (datos['racha'] >= 29) & (datos['racha'] < 39),\n",
    "    (datos['racha'] >= 39) & (datos['racha'] < 50),\n",
    "]\n",
    "values = [0,1,2,3,4,5,6]\n",
    "datos['beauRacha'] = np.select(conditions, values)\n",
    "\n",
    "##temperatura maxima categorica\n",
    "conditions = [\n",
    "    (datos['tmax'] <= -10),\n",
    "    (datos['tmax'] > -10) & (datos['tmax'] <= 0),\n",
    "    (datos['tmax'] > 0) & (datos['tmax'] <= 10),\n",
    "    (datos['tmax'] > 10) & (datos['tmax'] <= 20),\n",
    "    (datos['tmax'] > 20) & (datos['tmax'] <= 30),\n",
    "    (datos['tmax'] > 30) & (datos['tmax'] <= 40),\n",
    "    (datos['tmax'] > 40),\n",
    "]\n",
    "values = [0,1,2,3,4,5,6]\n",
    "datos['tmaxCat'] = np.select(conditions, values)\n",
    "\n",
    "#temperatura minima categorica\n",
    "conditions = [\n",
    "    (datos['tmin'] <= -10),\n",
    "    (datos['tmin'] > -10) & (datos['tmin'] <= 0),\n",
    "    (datos['tmin'] > 0) & (datos['tmin'] <= 10),\n",
    "    (datos['tmin'] > 10) & (datos['tmin'] <= 20),\n",
    "    (datos['tmin'] > 20) & (datos['tmin'] <= 30),\n",
    "    (datos['tmin'] > 30) & (datos['tmin'] <= 40),\n",
    "    (datos['tmin'] > 40),\n",
    "]\n",
    "values = [0,1,2,3,4,5,6]\n",
    "datos['tminCat'] = np.select(conditions, values)"
   ]
  },
  {
   "cell_type": "code",
   "execution_count": 13,
   "metadata": {
    "id": "bfoVdPv6r2wV"
   },
   "outputs": [],
   "source": [
    "def eliminarCol(x): return datos.drop(x, axis=1, inplace=True)"
   ]
  },
  {
   "cell_type": "code",
   "execution_count": 14,
   "metadata": {
    "id": "XqtfSalEeW0l"
   },
   "outputs": [],
   "source": [
    "#Eliminamos la variables que no vamos a utilizar\n",
    "eliminarCol('comunidad')\n",
    "eliminarCol('provincia')\n",
    "eliminarCol('municipio')\n",
    "eliminarCol('fecha')\n",
    "eliminarCol('superficie')\n",
    "eliminarCol('zona_meteo')"
   ]
  },
  {
   "cell_type": "code",
   "execution_count": 15,
   "metadata": {
    "id": "vI0nnKLieW0u"
   },
   "outputs": [],
   "source": [
    "datosML = datos.loc[:, datos.columns != 'supQuemada']"
   ]
  },
  {
   "cell_type": "code",
   "execution_count": 16,
   "metadata": {
    "colab": {
     "base_uri": "https://localhost:8080/",
     "height": 223
    },
    "id": "RpkU95oleW0u",
    "outputId": "bcd61a4f-2d22-46d9-8fc7-e7856591d89a"
   },
   "outputs": [
    {
     "data": {
      "text/html": [
       "<div>\n",
       "<style scoped>\n",
       "    .dataframe tbody tr th:only-of-type {\n",
       "        vertical-align: middle;\n",
       "    }\n",
       "\n",
       "    .dataframe tbody tr th {\n",
       "        vertical-align: top;\n",
       "    }\n",
       "\n",
       "    .dataframe thead th {\n",
       "        text-align: right;\n",
       "    }\n",
       "</style>\n",
       "<table border=\"1\" class=\"dataframe\">\n",
       "  <thead>\n",
       "    <tr style=\"text-align: right;\">\n",
       "      <th></th>\n",
       "      <th>id</th>\n",
       "      <th>latitude</th>\n",
       "      <th>longitude</th>\n",
       "      <th>idcomunidad</th>\n",
       "      <th>idprovincia</th>\n",
       "      <th>COD_AEMET</th>\n",
       "      <th>zona</th>\n",
       "      <th>altitud</th>\n",
       "      <th>poblacion_muni</th>\n",
       "      <th>superficie_muni</th>\n",
       "      <th>...</th>\n",
       "      <th>dir</th>\n",
       "      <th>fe_month</th>\n",
       "      <th>idmunicipio</th>\n",
       "      <th>dist</th>\n",
       "      <th>densPob</th>\n",
       "      <th>trimest</th>\n",
       "      <th>beauVelmed</th>\n",
       "      <th>beauRacha</th>\n",
       "      <th>tmaxCat</th>\n",
       "      <th>tminCat</th>\n",
       "    </tr>\n",
       "  </thead>\n",
       "  <tbody>\n",
       "    <tr>\n",
       "      <th>0</th>\n",
       "      <td>2003010036</td>\n",
       "      <td>42.847480</td>\n",
       "      <td>-2.498224</td>\n",
       "      <td>16</td>\n",
       "      <td>1</td>\n",
       "      <td>01001</td>\n",
       "      <td>1</td>\n",
       "      <td>513</td>\n",
       "      <td>2935</td>\n",
       "      <td>1994.5872</td>\n",
       "      <td>...</td>\n",
       "      <td>6</td>\n",
       "      <td>9</td>\n",
       "      <td>1</td>\n",
       "      <td>42.920248</td>\n",
       "      <td>1.471482</td>\n",
       "      <td>3</td>\n",
       "      <td>2</td>\n",
       "      <td>2</td>\n",
       "      <td>4</td>\n",
       "      <td>3</td>\n",
       "    </tr>\n",
       "    <tr>\n",
       "      <th>1</th>\n",
       "      <td>2001010030</td>\n",
       "      <td>43.010649</td>\n",
       "      <td>-2.926375</td>\n",
       "      <td>16</td>\n",
       "      <td>1</td>\n",
       "      <td>01002</td>\n",
       "      <td>1</td>\n",
       "      <td>208</td>\n",
       "      <td>10264</td>\n",
       "      <td>9649.5300</td>\n",
       "      <td>...</td>\n",
       "      <td>1</td>\n",
       "      <td>8</td>\n",
       "      <td>2</td>\n",
       "      <td>43.110087</td>\n",
       "      <td>1.063679</td>\n",
       "      <td>3</td>\n",
       "      <td>2</td>\n",
       "      <td>2</td>\n",
       "      <td>5</td>\n",
       "      <td>3</td>\n",
       "    </tr>\n",
       "    <tr>\n",
       "      <th>2</th>\n",
       "      <td>2004010037</td>\n",
       "      <td>43.001667</td>\n",
       "      <td>-2.987731</td>\n",
       "      <td>16</td>\n",
       "      <td>1</td>\n",
       "      <td>01002</td>\n",
       "      <td>1</td>\n",
       "      <td>208</td>\n",
       "      <td>10264</td>\n",
       "      <td>9649.5300</td>\n",
       "      <td>...</td>\n",
       "      <td>7</td>\n",
       "      <td>9</td>\n",
       "      <td>2</td>\n",
       "      <td>43.105335</td>\n",
       "      <td>1.063679</td>\n",
       "      <td>3</td>\n",
       "      <td>2</td>\n",
       "      <td>2</td>\n",
       "      <td>4</td>\n",
       "      <td>3</td>\n",
       "    </tr>\n",
       "    <tr>\n",
       "      <th>3</th>\n",
       "      <td>2002010005</td>\n",
       "      <td>43.010649</td>\n",
       "      <td>-2.926375</td>\n",
       "      <td>16</td>\n",
       "      <td>1</td>\n",
       "      <td>01002</td>\n",
       "      <td>1</td>\n",
       "      <td>208</td>\n",
       "      <td>10264</td>\n",
       "      <td>9649.5300</td>\n",
       "      <td>...</td>\n",
       "      <td>6</td>\n",
       "      <td>1</td>\n",
       "      <td>2</td>\n",
       "      <td>43.110087</td>\n",
       "      <td>1.063679</td>\n",
       "      <td>1</td>\n",
       "      <td>2</td>\n",
       "      <td>2</td>\n",
       "      <td>3</td>\n",
       "      <td>2</td>\n",
       "    </tr>\n",
       "    <tr>\n",
       "      <th>4</th>\n",
       "      <td>2001010027</td>\n",
       "      <td>43.010649</td>\n",
       "      <td>-2.926375</td>\n",
       "      <td>16</td>\n",
       "      <td>1</td>\n",
       "      <td>01002</td>\n",
       "      <td>1</td>\n",
       "      <td>208</td>\n",
       "      <td>10264</td>\n",
       "      <td>9649.5300</td>\n",
       "      <td>...</td>\n",
       "      <td>1</td>\n",
       "      <td>8</td>\n",
       "      <td>2</td>\n",
       "      <td>43.110087</td>\n",
       "      <td>1.063679</td>\n",
       "      <td>3</td>\n",
       "      <td>2</td>\n",
       "      <td>2</td>\n",
       "      <td>4</td>\n",
       "      <td>3</td>\n",
       "    </tr>\n",
       "  </tbody>\n",
       "</table>\n",
       "<p>5 rows × 27 columns</p>\n",
       "</div>"
      ],
      "text/plain": [
       "           id   latitude  longitude  idcomunidad  idprovincia COD_AEMET  zona  \\\n",
       "0  2003010036  42.847480  -2.498224           16            1     01001     1   \n",
       "1  2001010030  43.010649  -2.926375           16            1     01002     1   \n",
       "2  2004010037  43.001667  -2.987731           16            1     01002     1   \n",
       "3  2002010005  43.010649  -2.926375           16            1     01002     1   \n",
       "4  2001010027  43.010649  -2.926375           16            1     01002     1   \n",
       "\n",
       "   altitud  poblacion_muni  superficie_muni  ...  dir  fe_month  idmunicipio  \\\n",
       "0      513            2935        1994.5872  ...    6         9            1   \n",
       "1      208           10264        9649.5300  ...    1         8            2   \n",
       "2      208           10264        9649.5300  ...    7         9            2   \n",
       "3      208           10264        9649.5300  ...    6         1            2   \n",
       "4      208           10264        9649.5300  ...    1         8            2   \n",
       "\n",
       "        dist   densPob  trimest  beauVelmed  beauRacha  tmaxCat  tminCat  \n",
       "0  42.920248  1.471482        3           2          2        4        3  \n",
       "1  43.110087  1.063679        3           2          2        5        3  \n",
       "2  43.105335  1.063679        3           2          2        4        3  \n",
       "3  43.110087  1.063679        1           2          2        3        2  \n",
       "4  43.110087  1.063679        3           2          2        4        3  \n",
       "\n",
       "[5 rows x 27 columns]"
      ]
     },
     "execution_count": 16,
     "metadata": {},
     "output_type": "execute_result"
    }
   ],
   "source": [
    "datosML.head()"
   ]
  },
  {
   "cell_type": "code",
   "execution_count": 17,
   "metadata": {
    "id": "RDQEkdlQeW0u"
   },
   "outputs": [],
   "source": [
    "# Normalización:\n",
    "min_max_scaler = preprocessing.MinMaxScaler()\n",
    "np_scaled = min_max_scaler.fit_transform(datosML)\n",
    "df_normalized = pd.DataFrame(np_scaled)\n",
    "df_normalized.columns = datosML.columns.values"
   ]
  },
  {
   "cell_type": "code",
   "execution_count": 18,
   "metadata": {
    "id": "VS_RonZDeW0u"
   },
   "outputs": [],
   "source": [
    "df_normalized['supQuemada'] = datos['supQuemada']"
   ]
  },
  {
   "cell_type": "code",
   "execution_count": 19,
   "metadata": {
    "colab": {
     "base_uri": "https://localhost:8080/",
     "height": 223
    },
    "id": "fDy_FeWLeW0u",
    "outputId": "abb72d6b-42c4-40d8-aceb-f617a431bf87"
   },
   "outputs": [
    {
     "data": {
      "text/html": [
       "<div>\n",
       "<style scoped>\n",
       "    .dataframe tbody tr th:only-of-type {\n",
       "        vertical-align: middle;\n",
       "    }\n",
       "\n",
       "    .dataframe tbody tr th {\n",
       "        vertical-align: top;\n",
       "    }\n",
       "\n",
       "    .dataframe thead th {\n",
       "        text-align: right;\n",
       "    }\n",
       "</style>\n",
       "<table border=\"1\" class=\"dataframe\">\n",
       "  <thead>\n",
       "    <tr style=\"text-align: right;\">\n",
       "      <th></th>\n",
       "      <th>id</th>\n",
       "      <th>latitude</th>\n",
       "      <th>longitude</th>\n",
       "      <th>idcomunidad</th>\n",
       "      <th>idprovincia</th>\n",
       "      <th>COD_AEMET</th>\n",
       "      <th>zona</th>\n",
       "      <th>altitud</th>\n",
       "      <th>poblacion_muni</th>\n",
       "      <th>superficie_muni</th>\n",
       "      <th>...</th>\n",
       "      <th>fe_month</th>\n",
       "      <th>idmunicipio</th>\n",
       "      <th>dist</th>\n",
       "      <th>densPob</th>\n",
       "      <th>trimest</th>\n",
       "      <th>beauVelmed</th>\n",
       "      <th>beauRacha</th>\n",
       "      <th>tmaxCat</th>\n",
       "      <th>tminCat</th>\n",
       "      <th>supQuemada</th>\n",
       "    </tr>\n",
       "  </thead>\n",
       "  <tbody>\n",
       "    <tr>\n",
       "      <th>0</th>\n",
       "      <td>0.137933</td>\n",
       "      <td>0.943081</td>\n",
       "      <td>0.699894</td>\n",
       "      <td>0.882353</td>\n",
       "      <td>0.0</td>\n",
       "      <td>0.00000</td>\n",
       "      <td>0.0</td>\n",
       "      <td>0.215703</td>\n",
       "      <td>0.000878</td>\n",
       "      <td>0.011078</td>\n",
       "      <td>...</td>\n",
       "      <td>0.727273</td>\n",
       "      <td>0.000000</td>\n",
       "      <td>0.877416</td>\n",
       "      <td>0.008649</td>\n",
       "      <td>0.666667</td>\n",
       "      <td>0.333333</td>\n",
       "      <td>0.333333</td>\n",
       "      <td>0.666667</td>\n",
       "      <td>0.75</td>\n",
       "      <td>3</td>\n",
       "    </tr>\n",
       "    <tr>\n",
       "      <th>1</th>\n",
       "      <td>0.000002</td>\n",
       "      <td>0.953245</td>\n",
       "      <td>0.680593</td>\n",
       "      <td>0.882353</td>\n",
       "      <td>0.0</td>\n",
       "      <td>0.00002</td>\n",
       "      <td>0.0</td>\n",
       "      <td>0.086957</td>\n",
       "      <td>0.003076</td>\n",
       "      <td>0.054829</td>\n",
       "      <td>...</td>\n",
       "      <td>0.636364</td>\n",
       "      <td>0.000176</td>\n",
       "      <td>0.892472</td>\n",
       "      <td>0.006247</td>\n",
       "      <td>0.666667</td>\n",
       "      <td>0.333333</td>\n",
       "      <td>0.333333</td>\n",
       "      <td>0.833333</td>\n",
       "      <td>0.75</td>\n",
       "      <td>3</td>\n",
       "    </tr>\n",
       "    <tr>\n",
       "      <th>2</th>\n",
       "      <td>0.206899</td>\n",
       "      <td>0.952685</td>\n",
       "      <td>0.677827</td>\n",
       "      <td>0.882353</td>\n",
       "      <td>0.0</td>\n",
       "      <td>0.00002</td>\n",
       "      <td>0.0</td>\n",
       "      <td>0.086957</td>\n",
       "      <td>0.003076</td>\n",
       "      <td>0.054829</td>\n",
       "      <td>...</td>\n",
       "      <td>0.727273</td>\n",
       "      <td>0.000176</td>\n",
       "      <td>0.892095</td>\n",
       "      <td>0.006247</td>\n",
       "      <td>0.666667</td>\n",
       "      <td>0.333333</td>\n",
       "      <td>0.333333</td>\n",
       "      <td>0.666667</td>\n",
       "      <td>0.75</td>\n",
       "      <td>2</td>\n",
       "    </tr>\n",
       "    <tr>\n",
       "      <th>3</th>\n",
       "      <td>0.068966</td>\n",
       "      <td>0.953245</td>\n",
       "      <td>0.680593</td>\n",
       "      <td>0.882353</td>\n",
       "      <td>0.0</td>\n",
       "      <td>0.00002</td>\n",
       "      <td>0.0</td>\n",
       "      <td>0.086957</td>\n",
       "      <td>0.003076</td>\n",
       "      <td>0.054829</td>\n",
       "      <td>...</td>\n",
       "      <td>0.000000</td>\n",
       "      <td>0.000176</td>\n",
       "      <td>0.892472</td>\n",
       "      <td>0.006247</td>\n",
       "      <td>0.000000</td>\n",
       "      <td>0.333333</td>\n",
       "      <td>0.333333</td>\n",
       "      <td>0.500000</td>\n",
       "      <td>0.50</td>\n",
       "      <td>2</td>\n",
       "    </tr>\n",
       "    <tr>\n",
       "      <th>4</th>\n",
       "      <td>0.000002</td>\n",
       "      <td>0.953245</td>\n",
       "      <td>0.680593</td>\n",
       "      <td>0.882353</td>\n",
       "      <td>0.0</td>\n",
       "      <td>0.00002</td>\n",
       "      <td>0.0</td>\n",
       "      <td>0.086957</td>\n",
       "      <td>0.003076</td>\n",
       "      <td>0.054829</td>\n",
       "      <td>...</td>\n",
       "      <td>0.636364</td>\n",
       "      <td>0.000176</td>\n",
       "      <td>0.892472</td>\n",
       "      <td>0.006247</td>\n",
       "      <td>0.666667</td>\n",
       "      <td>0.333333</td>\n",
       "      <td>0.333333</td>\n",
       "      <td>0.666667</td>\n",
       "      <td>0.75</td>\n",
       "      <td>2</td>\n",
       "    </tr>\n",
       "  </tbody>\n",
       "</table>\n",
       "<p>5 rows × 28 columns</p>\n",
       "</div>"
      ],
      "text/plain": [
       "         id  latitude  longitude  idcomunidad  idprovincia  COD_AEMET  zona  \\\n",
       "0  0.137933  0.943081   0.699894     0.882353          0.0    0.00000   0.0   \n",
       "1  0.000002  0.953245   0.680593     0.882353          0.0    0.00002   0.0   \n",
       "2  0.206899  0.952685   0.677827     0.882353          0.0    0.00002   0.0   \n",
       "3  0.068966  0.953245   0.680593     0.882353          0.0    0.00002   0.0   \n",
       "4  0.000002  0.953245   0.680593     0.882353          0.0    0.00002   0.0   \n",
       "\n",
       "    altitud  poblacion_muni  superficie_muni  ...  fe_month  idmunicipio  \\\n",
       "0  0.215703        0.000878         0.011078  ...  0.727273     0.000000   \n",
       "1  0.086957        0.003076         0.054829  ...  0.636364     0.000176   \n",
       "2  0.086957        0.003076         0.054829  ...  0.727273     0.000176   \n",
       "3  0.086957        0.003076         0.054829  ...  0.000000     0.000176   \n",
       "4  0.086957        0.003076         0.054829  ...  0.636364     0.000176   \n",
       "\n",
       "       dist   densPob   trimest  beauVelmed  beauRacha   tmaxCat  tminCat  \\\n",
       "0  0.877416  0.008649  0.666667    0.333333   0.333333  0.666667     0.75   \n",
       "1  0.892472  0.006247  0.666667    0.333333   0.333333  0.833333     0.75   \n",
       "2  0.892095  0.006247  0.666667    0.333333   0.333333  0.666667     0.75   \n",
       "3  0.892472  0.006247  0.000000    0.333333   0.333333  0.500000     0.50   \n",
       "4  0.892472  0.006247  0.666667    0.333333   0.333333  0.666667     0.75   \n",
       "\n",
       "   supQuemada  \n",
       "0           3  \n",
       "1           3  \n",
       "2           2  \n",
       "3           2  \n",
       "4           2  \n",
       "\n",
       "[5 rows x 28 columns]"
      ]
     },
     "execution_count": 19,
     "metadata": {},
     "output_type": "execute_result"
    }
   ],
   "source": [
    "df_normalized.head()"
   ]
  },
  {
   "cell_type": "code",
   "execution_count": 20,
   "metadata": {
    "id": "rmVieayQeW0w"
   },
   "outputs": [],
   "source": [
    "X = df_normalized.loc[:, df_normalized.columns != 'supQuemada']\n",
    "y = df_normalized['supQuemada']"
   ]
  },
  {
   "cell_type": "code",
   "execution_count": 21,
   "metadata": {
    "colab": {
     "base_uri": "https://localhost:8080/"
    },
    "id": "cghs_YwHr2wa",
    "outputId": "0ac2eb1d-6d7a-4073-a89d-0723bf60519f"
   },
   "outputs": [
    {
     "data": {
      "text/plain": [
       "id                 0\n",
       "latitude           0\n",
       "longitude          0\n",
       "idcomunidad        0\n",
       "idprovincia        0\n",
       "COD_AEMET          0\n",
       "zona               0\n",
       "altitud            0\n",
       "poblacion_muni     0\n",
       "superficie_muni    0\n",
       "id_zona_meteo      0\n",
       "NATCODE            0\n",
       "tmax               0\n",
       "tmin               0\n",
       "racha              0\n",
       "prec               0\n",
       "velmedia           0\n",
       "dir                0\n",
       "fe_month           0\n",
       "idmunicipio        0\n",
       "dist               0\n",
       "densPob            0\n",
       "trimest            0\n",
       "beauVelmed         0\n",
       "beauRacha          0\n",
       "tmaxCat            0\n",
       "tminCat            0\n",
       "supQuemada         0\n",
       "dtype: int64"
      ]
     },
     "execution_count": 21,
     "metadata": {},
     "output_type": "execute_result"
    }
   ],
   "source": [
    "df_normalized.isna().sum()"
   ]
  },
  {
   "cell_type": "markdown",
   "metadata": {
    "id": "TnwnTcsieW0x"
   },
   "source": [
    "**Seleccion de variables**"
   ]
  },
  {
   "cell_type": "code",
   "execution_count": null,
   "metadata": {},
   "outputs": [],
   "source": [
    "#Correlación de la variables/SupQuemada"
   ]
  },
  {
   "cell_type": "code",
   "execution_count": 22,
   "metadata": {
    "colab": {
     "base_uri": "https://localhost:8080/",
     "height": 610
    },
    "id": "pB6jL93DeW00",
    "outputId": "5da14a11-cc63-4559-80e2-330bf13df549"
   },
   "outputs": [
    {
     "data": {
      "text/html": [
       "<style  type=\"text/css\" >\n",
       "#T_6924e_row0_col0{\n",
       "            background-color:  #023858;\n",
       "            color:  #f1f1f1;\n",
       "        }#T_6924e_row1_col0{\n",
       "            background-color:  #efe9f3;\n",
       "            color:  #000000;\n",
       "        }#T_6924e_row2_col0{\n",
       "            background-color:  #f4edf6;\n",
       "            color:  #000000;\n",
       "        }#T_6924e_row3_col0{\n",
       "            background-color:  #f4eef6;\n",
       "            color:  #000000;\n",
       "        }#T_6924e_row4_col0{\n",
       "            background-color:  #f6eff7;\n",
       "            color:  #000000;\n",
       "        }#T_6924e_row5_col0{\n",
       "            background-color:  #f7f0f7;\n",
       "            color:  #000000;\n",
       "        }#T_6924e_row6_col0,#T_6924e_row7_col0{\n",
       "            background-color:  #f8f1f8;\n",
       "            color:  #000000;\n",
       "        }#T_6924e_row8_col0,#T_6924e_row9_col0{\n",
       "            background-color:  #f9f2f8;\n",
       "            color:  #000000;\n",
       "        }#T_6924e_row10_col0{\n",
       "            background-color:  #faf2f8;\n",
       "            color:  #000000;\n",
       "        }#T_6924e_row11_col0{\n",
       "            background-color:  #fbf3f9;\n",
       "            color:  #000000;\n",
       "        }#T_6924e_row12_col0{\n",
       "            background-color:  #fbf4f9;\n",
       "            color:  #000000;\n",
       "        }#T_6924e_row13_col0,#T_6924e_row14_col0,#T_6924e_row15_col0,#T_6924e_row16_col0{\n",
       "            background-color:  #fcf4fa;\n",
       "            color:  #000000;\n",
       "        }#T_6924e_row17_col0,#T_6924e_row18_col0,#T_6924e_row19_col0,#T_6924e_row20_col0,#T_6924e_row21_col0,#T_6924e_row22_col0,#T_6924e_row23_col0{\n",
       "            background-color:  #fdf5fa;\n",
       "            color:  #000000;\n",
       "        }#T_6924e_row24_col0{\n",
       "            background-color:  #fef6fa;\n",
       "            color:  #000000;\n",
       "        }#T_6924e_row25_col0{\n",
       "            background-color:  #fef6fb;\n",
       "            color:  #000000;\n",
       "        }#T_6924e_row26_col0,#T_6924e_row27_col0{\n",
       "            background-color:  #fff7fb;\n",
       "            color:  #000000;\n",
       "        }</style><table id=\"T_6924e_\" ><thead>    <tr>        <th class=\"blank level0\" ></th>        <th class=\"col_heading level0 col0\" >supQuemada</th>    </tr></thead><tbody>\n",
       "                <tr>\n",
       "                        <th id=\"T_6924e_level0_row0\" class=\"row_heading level0 row0\" >supQuemada</th>\n",
       "                        <td id=\"T_6924e_row0_col0\" class=\"data row0 col0\" >1.000000</td>\n",
       "            </tr>\n",
       "            <tr>\n",
       "                        <th id=\"T_6924e_level0_row1\" class=\"row_heading level0 row1\" >id</th>\n",
       "                        <td id=\"T_6924e_row1_col0\" class=\"data row1 col0\" >0.108105</td>\n",
       "            </tr>\n",
       "            <tr>\n",
       "                        <th id=\"T_6924e_level0_row2\" class=\"row_heading level0 row2\" >tmax</th>\n",
       "                        <td id=\"T_6924e_row2_col0\" class=\"data row2 col0\" >0.076227</td>\n",
       "            </tr>\n",
       "            <tr>\n",
       "                        <th id=\"T_6924e_level0_row3\" class=\"row_heading level0 row3\" >tmaxCat</th>\n",
       "                        <td id=\"T_6924e_row3_col0\" class=\"data row3 col0\" >0.071207</td>\n",
       "            </tr>\n",
       "            <tr>\n",
       "                        <th id=\"T_6924e_level0_row4\" class=\"row_heading level0 row4\" >tmin</th>\n",
       "                        <td id=\"T_6924e_row4_col0\" class=\"data row4 col0\" >0.059425</td>\n",
       "            </tr>\n",
       "            <tr>\n",
       "                        <th id=\"T_6924e_level0_row5\" class=\"row_heading level0 row5\" >tminCat</th>\n",
       "                        <td id=\"T_6924e_row5_col0\" class=\"data row5 col0\" >0.057226</td>\n",
       "            </tr>\n",
       "            <tr>\n",
       "                        <th id=\"T_6924e_level0_row6\" class=\"row_heading level0 row6\" >trimest</th>\n",
       "                        <td id=\"T_6924e_row6_col0\" class=\"data row6 col0\" >0.046444</td>\n",
       "            </tr>\n",
       "            <tr>\n",
       "                        <th id=\"T_6924e_level0_row7\" class=\"row_heading level0 row7\" >fe_month</th>\n",
       "                        <td id=\"T_6924e_row7_col0\" class=\"data row7 col0\" >0.046090</td>\n",
       "            </tr>\n",
       "            <tr>\n",
       "                        <th id=\"T_6924e_level0_row8\" class=\"row_heading level0 row8\" >idcomunidad</th>\n",
       "                        <td id=\"T_6924e_row8_col0\" class=\"data row8 col0\" >0.040371</td>\n",
       "            </tr>\n",
       "            <tr>\n",
       "                        <th id=\"T_6924e_level0_row9\" class=\"row_heading level0 row9\" >NATCODE</th>\n",
       "                        <td id=\"T_6924e_row9_col0\" class=\"data row9 col0\" >0.040113</td>\n",
       "            </tr>\n",
       "            <tr>\n",
       "                        <th id=\"T_6924e_level0_row10\" class=\"row_heading level0 row10\" >id_zona_meteo</th>\n",
       "                        <td id=\"T_6924e_row10_col0\" class=\"data row10 col0\" >0.037435</td>\n",
       "            </tr>\n",
       "            <tr>\n",
       "                        <th id=\"T_6924e_level0_row11\" class=\"row_heading level0 row11\" >racha</th>\n",
       "                        <td id=\"T_6924e_row11_col0\" class=\"data row11 col0\" >0.031525</td>\n",
       "            </tr>\n",
       "            <tr>\n",
       "                        <th id=\"T_6924e_level0_row12\" class=\"row_heading level0 row12\" >densPob</th>\n",
       "                        <td id=\"T_6924e_row12_col0\" class=\"data row12 col0\" >0.024698</td>\n",
       "            </tr>\n",
       "            <tr>\n",
       "                        <th id=\"T_6924e_level0_row13\" class=\"row_heading level0 row13\" >beauRacha</th>\n",
       "                        <td id=\"T_6924e_row13_col0\" class=\"data row13 col0\" >0.022456</td>\n",
       "            </tr>\n",
       "            <tr>\n",
       "                        <th id=\"T_6924e_level0_row14\" class=\"row_heading level0 row14\" >beauVelmed</th>\n",
       "                        <td id=\"T_6924e_row14_col0\" class=\"data row14 col0\" >0.022456</td>\n",
       "            </tr>\n",
       "            <tr>\n",
       "                        <th id=\"T_6924e_level0_row15\" class=\"row_heading level0 row15\" >velmedia</th>\n",
       "                        <td id=\"T_6924e_row15_col0\" class=\"data row15 col0\" >0.022364</td>\n",
       "            </tr>\n",
       "            <tr>\n",
       "                        <th id=\"T_6924e_level0_row16\" class=\"row_heading level0 row16\" >superficie_muni</th>\n",
       "                        <td id=\"T_6924e_row16_col0\" class=\"data row16 col0\" >0.022020</td>\n",
       "            </tr>\n",
       "            <tr>\n",
       "                        <th id=\"T_6924e_level0_row17\" class=\"row_heading level0 row17\" >altitud</th>\n",
       "                        <td id=\"T_6924e_row17_col0\" class=\"data row17 col0\" >0.019399</td>\n",
       "            </tr>\n",
       "            <tr>\n",
       "                        <th id=\"T_6924e_level0_row18\" class=\"row_heading level0 row18\" >dir</th>\n",
       "                        <td id=\"T_6924e_row18_col0\" class=\"data row18 col0\" >0.016808</td>\n",
       "            </tr>\n",
       "            <tr>\n",
       "                        <th id=\"T_6924e_level0_row19\" class=\"row_heading level0 row19\" >COD_AEMET</th>\n",
       "                        <td id=\"T_6924e_row19_col0\" class=\"data row19 col0\" >0.015719</td>\n",
       "            </tr>\n",
       "            <tr>\n",
       "                        <th id=\"T_6924e_level0_row20\" class=\"row_heading level0 row20\" >idprovincia</th>\n",
       "                        <td id=\"T_6924e_row20_col0\" class=\"data row20 col0\" >0.015621</td>\n",
       "            </tr>\n",
       "            <tr>\n",
       "                        <th id=\"T_6924e_level0_row21\" class=\"row_heading level0 row21\" >latitude</th>\n",
       "                        <td id=\"T_6924e_row21_col0\" class=\"data row21 col0\" >0.015533</td>\n",
       "            </tr>\n",
       "            <tr>\n",
       "                        <th id=\"T_6924e_level0_row22\" class=\"row_heading level0 row22\" >dist</th>\n",
       "                        <td id=\"T_6924e_row22_col0\" class=\"data row22 col0\" >0.014955</td>\n",
       "            </tr>\n",
       "            <tr>\n",
       "                        <th id=\"T_6924e_level0_row23\" class=\"row_heading level0 row23\" >idmunicipio</th>\n",
       "                        <td id=\"T_6924e_row23_col0\" class=\"data row23 col0\" >0.013779</td>\n",
       "            </tr>\n",
       "            <tr>\n",
       "                        <th id=\"T_6924e_level0_row24\" class=\"row_heading level0 row24\" >prec</th>\n",
       "                        <td id=\"T_6924e_row24_col0\" class=\"data row24 col0\" >0.011315</td>\n",
       "            </tr>\n",
       "            <tr>\n",
       "                        <th id=\"T_6924e_level0_row25\" class=\"row_heading level0 row25\" >poblacion_muni</th>\n",
       "                        <td id=\"T_6924e_row25_col0\" class=\"data row25 col0\" >0.007793</td>\n",
       "            </tr>\n",
       "            <tr>\n",
       "                        <th id=\"T_6924e_level0_row26\" class=\"row_heading level0 row26\" >longitude</th>\n",
       "                        <td id=\"T_6924e_row26_col0\" class=\"data row26 col0\" >0.002051</td>\n",
       "            </tr>\n",
       "            <tr>\n",
       "                        <th id=\"T_6924e_level0_row27\" class=\"row_heading level0 row27\" >zona</th>\n",
       "                        <td id=\"T_6924e_row27_col0\" class=\"data row27 col0\" >0.000321</td>\n",
       "            </tr>\n",
       "    </tbody></table>"
      ],
      "text/plain": [
       "<pandas.io.formats.style.Styler at 0x188a6088370>"
      ]
     },
     "execution_count": 22,
     "metadata": {},
     "output_type": "execute_result"
    }
   ],
   "source": [
    "corr = abs(df_normalized.corr())\n",
    "corr[['supQuemada']].sort_values(by = 'supQuemada',ascending = False).style.background_gradient()"
   ]
  },
  {
   "cell_type": "code",
   "execution_count": null,
   "metadata": {},
   "outputs": [],
   "source": [
    "#Selección de las mejores características (16,11 y 6)"
   ]
  },
  {
   "cell_type": "code",
   "execution_count": 23,
   "metadata": {
    "colab": {
     "base_uri": "https://localhost:8080/"
    },
    "id": "pKlc48LNeW02",
    "outputId": "8c496cb4-4309-47ae-8707-83f3ddedda45"
   },
   "outputs": [
    {
     "name": "stdout",
     "output_type": "stream",
     "text": [
      "['NATCODE', 'altitud', 'fe_month', 'id', 'id_zona_meteo', 'idcomunidad', 'prec', 'racha', 'supQuemada', 'superficie_muni', 'tmax', 'tmaxCat', 'tmin', 'tminCat', 'trimest', 'zona']\n"
     ]
    }
   ],
   "source": [
    "S_chi5 = SelectKBest(chi2, k = 16)\n",
    "X_chi5 = S_chi5.fit_transform(df_normalized, df_normalized['supQuemada'])\n",
    "\n",
    "variables = list(np.asarray(list(df_normalized))[S_chi5.get_support()])\n",
    "variables.sort()\n",
    "print(variables)"
   ]
  },
  {
   "cell_type": "code",
   "execution_count": 24,
   "metadata": {
    "colab": {
     "base_uri": "https://localhost:8080/"
    },
    "id": "nhktqEL0eW02",
    "outputId": "74bc43dc-5d57-4805-8b5c-7aae96068a1a"
   },
   "outputs": [
    {
     "name": "stdout",
     "output_type": "stream",
     "text": [
      "['NATCODE', 'fe_month', 'id', 'idcomunidad', 'prec', 'supQuemada', 'tmax', 'tmaxCat', 'tminCat', 'trimest', 'zona']\n"
     ]
    }
   ],
   "source": [
    "S_chi5 = SelectKBest(chi2, k = 11)\n",
    "X_chi5 = S_chi5.fit_transform(df_normalized, df_normalized['supQuemada'])\n",
    "\n",
    "variables = list(np.asarray(list(df_normalized))[S_chi5.get_support()])\n",
    "variables.sort()\n",
    "print(variables)"
   ]
  },
  {
   "cell_type": "code",
   "execution_count": 25,
   "metadata": {
    "colab": {
     "base_uri": "https://localhost:8080/"
    },
    "id": "EXtO4ZqoeW03",
    "outputId": "d7b26889-fae4-4e4e-a7b9-c49bf76999d1",
    "scrolled": true
   },
   "outputs": [
    {
     "name": "stdout",
     "output_type": "stream",
     "text": [
      "['fe_month', 'id', 'supQuemada', 'tmax', 'trimest', 'zona']\n"
     ]
    }
   ],
   "source": [
    "S_chi5 = SelectKBest(chi2, k = 6)\n",
    "X_chi5 = S_chi5.fit_transform(df_normalized, df_normalized['supQuemada'])\n",
    "\n",
    "variables = list(np.asarray(list(df_normalized))[S_chi5.get_support()])\n",
    "variables.sort()\n",
    "print(variables)"
   ]
  },
  {
   "cell_type": "code",
   "execution_count": null,
   "metadata": {},
   "outputs": [],
   "source": [
    "#Correlación"
   ]
  },
  {
   "cell_type": "code",
   "execution_count": 26,
   "metadata": {
    "colab": {
     "base_uri": "https://localhost:8080/"
    },
    "id": "Mq1JeIcaeW03",
    "outputId": "cc0c079e-f51b-4d1b-edf3-dc26e529078b"
   },
   "outputs": [
    {
     "data": {
      "text/plain": [
       "zona            dist             -0.879047\n",
       "dist            zona             -0.879047\n",
       "latitude        zona             -0.833552\n",
       "zona            latitude         -0.833552\n",
       "longitude       zona              0.517473\n",
       "zona            longitude         0.517473\n",
       "densPob         poblacion_muni    0.573596\n",
       "poblacion_muni  densPob           0.573596\n",
       "tmaxCat         tminCat           0.670295\n",
       "tminCat         tmaxCat           0.670295\n",
       "beauRacha       velmedia          0.696671\n",
       "beauVelmed      velmedia          0.696671\n",
       "velmedia        beauVelmed        0.696671\n",
       "                beauRacha         0.696671\n",
       "tminCat         tmax              0.710600\n",
       "tmax            tminCat           0.710600\n",
       "racha           velmedia          0.711512\n",
       "velmedia        racha             0.711512\n",
       "tmin            tmaxCat           0.725270\n",
       "tmaxCat         tmin              0.725270\n",
       "tmax            tmin              0.766976\n",
       "tmin            tmax              0.766976\n",
       "tminCat         tmin              0.916278\n",
       "tmin            tminCat           0.916278\n",
       "racha           beauRacha         0.939155\n",
       "                beauVelmed        0.939155\n",
       "beauRacha       racha             0.939155\n",
       "beauVelmed      racha             0.939155\n",
       "tmax            tmaxCat           0.941590\n",
       "tmaxCat         tmax              0.941590\n",
       "fe_month        trimest           0.964287\n",
       "trimest         fe_month          0.964287\n",
       "id_zona_meteo   idcomunidad       0.966887\n",
       "idcomunidad     id_zona_meteo     0.966887\n",
       "NATCODE         id_zona_meteo     0.967721\n",
       "dtype: float64"
      ]
     },
     "execution_count": 26,
     "metadata": {},
     "output_type": "execute_result"
    }
   ],
   "source": [
    "correlation_mat = df_normalized.corr()\n",
    "corr_pairs = correlation_mat.unstack()\n",
    "sorted_pairs = corr_pairs.sort_values(kind=\"quicksort\")\n",
    "strong_pairs = sorted_pairs[abs(sorted_pairs) > 0.5]\n",
    "strong_pairs.head(35)"
   ]
  },
  {
   "cell_type": "markdown",
   "metadata": {
    "id": "RMqsH0BXeW07"
   },
   "source": [
    "Modelos"
   ]
  },
  {
   "cell_type": "code",
   "execution_count": 27,
   "metadata": {
    "colab": {
     "base_uri": "https://localhost:8080/"
    },
    "id": "lmfXu5fql0bb",
    "outputId": "e208e069-9750-4b4c-c1f6-9a434b1f7734"
   },
   "outputs": [
    {
     "data": {
      "text/plain": [
       "Index(['id', 'latitude', 'longitude', 'idcomunidad', 'idprovincia',\n",
       "       'COD_AEMET', 'zona', 'altitud', 'poblacion_muni', 'superficie_muni',\n",
       "       'id_zona_meteo', 'NATCODE', 'tmax', 'tmin', 'racha', 'prec', 'velmedia',\n",
       "       'dir', 'fe_month', 'idmunicipio', 'dist', 'densPob', 'trimest',\n",
       "       'beauVelmed', 'beauRacha', 'tmaxCat', 'tminCat', 'supQuemada'],\n",
       "      dtype='object')"
      ]
     },
     "execution_count": 27,
     "metadata": {},
     "output_type": "execute_result"
    }
   ],
   "source": [
    "df_normalized.columns"
   ]
  },
  {
   "cell_type": "code",
   "execution_count": 28,
   "metadata": {
    "id": "Ml0VAF1NeW07"
   },
   "outputs": [],
   "source": [
    "variables = ['altitud', 'racha', 'densPob', 'idcomunidad', 'superficie_muni', 'prec', 'tmaxCat', 'trimest', 'dist']\n",
    "variables = df_normalized[variables]"
   ]
  },
  {
   "cell_type": "code",
   "execution_count": 29,
   "metadata": {
    "colab": {
     "base_uri": "https://localhost:8080/"
    },
    "id": "gtsD0_oZeW07",
    "outputId": "a2970126-4539-4ad1-a331-05121585e363"
   },
   "outputs": [
    {
     "data": {
      "text/plain": [
       "altitud          altitud            1.0\n",
       "superficie_muni  superficie_muni    1.0\n",
       "tmaxCat          tmaxCat            1.0\n",
       "prec             prec               1.0\n",
       "idcomunidad      idcomunidad        1.0\n",
       "densPob          densPob            1.0\n",
       "racha            racha              1.0\n",
       "trimest          trimest            1.0\n",
       "dist             dist               1.0\n",
       "dtype: float64"
      ]
     },
     "execution_count": 29,
     "metadata": {},
     "output_type": "execute_result"
    }
   ],
   "source": [
    "correlation_mat = variables.corr()\n",
    "corr_pairs = correlation_mat.unstack()\n",
    "sorted_pairs = corr_pairs.sort_values(kind=\"quicksort\")\n",
    "strong_pairs = sorted_pairs[abs(sorted_pairs) > 0.5]\n",
    "strong_pairs.head(35)"
   ]
  },
  {
   "cell_type": "code",
   "execution_count": null,
   "metadata": {},
   "outputs": [],
   "source": [
    "#Selección de train y test"
   ]
  },
  {
   "cell_type": "code",
   "execution_count": 30,
   "metadata": {
    "id": "wY4Bz3dkr2wh"
   },
   "outputs": [],
   "source": [
    "X_train, X_test, y_train, y_test = sklearn.model_selection.train_test_split(variables,\n",
    "                                                    y,\n",
    "                                                    test_size=0.2,\n",
    "                                                    random_state=42,\n",
    "                                                    stratify = y)"
   ]
  },
  {
   "cell_type": "code",
   "execution_count": null,
   "metadata": {},
   "outputs": [],
   "source": [
    "#Modelos"
   ]
  },
  {
   "cell_type": "code",
   "execution_count": 31,
   "metadata": {
    "colab": {
     "base_uri": "https://localhost:8080/"
    },
    "id": "Hrt1H3Eir2wh",
    "outputId": "b1e32601-144f-4ff8-ddfa-368168a4fb9a"
   },
   "outputs": [
    {
     "name": "stdout",
     "output_type": "stream",
     "text": [
      "Distribution of class labels before resampling Counter({2: 36062, 3: 17056, 1: 8273, 4: 2410, 5: 527, 6: 287})\n",
      "Distribution of class labels after resampling Counter({2: 36062, 1: 36062, 3: 36062, 5: 36062, 4: 36062, 6: 36062})\n"
     ]
    }
   ],
   "source": [
    "sm = SMOTE(random_state=2)\n",
    "X_train_res, y_train_res = sm.fit_resample(X_train, y_train)\n",
    "print (\"Distribution of class labels before resampling {}\".format(Counter(y_train)))\n",
    "print (\"Distribution of class labels after resampling {}\".format(Counter(y_train_res)))"
   ]
  },
  {
   "cell_type": "code",
   "execution_count": 35,
   "metadata": {
    "colab": {
     "base_uri": "https://localhost:8080/"
    },
    "id": "dFakiAGqr2wi",
    "outputId": "e87f47ac-2fd1-4b0e-ac0c-fe6738d935db"
   },
   "outputs": [
    {
     "name": "stdout",
     "output_type": "stream",
     "text": [
      "neighbors accuracy => 0.7351322946388008\n",
      "0.7351322946388008\n",
      "0.015157316978774024\n",
      "histboosting accuracy => 0.6014832455776769\n",
      "0.6014832455776769\n",
      "0.03530683409834005\n",
      "histboosting0.2 accuracy => 0.6637557434307847\n",
      "0.6637557434307847\n",
      "0.04236191580995601\n",
      "forest300,50 accuracy => 0.5407818261368542\n",
      "0.5407818261368542\n",
      "0.012642421994648203\n",
      "Gradientboosting accuracy => 0.4268992865556049\n",
      "0.4268992865556049\n",
      "0.014987314445927663\n"
     ]
    },
    {
     "name": "stderr",
     "output_type": "stream",
     "text": [
      "C:\\Users\\cregueir\\Anaconda3\\lib\\site-packages\\xgboost\\sklearn.py:1146: UserWarning: The use of label encoder in XGBClassifier is deprecated and will be removed in a future release. To remove this warning, do the following: 1) Pass option use_label_encoder=False when constructing XGBClassifier object; and 2) Encode your labels (y) as integers starting with 0, i.e. 0, 1, 2, ..., [num_class - 1].\n",
      "  warnings.warn(label_encoder_deprecation_msg, UserWarning)\n"
     ]
    },
    {
     "name": "stdout",
     "output_type": "stream",
     "text": [
      "[14:58:47] WARNING: C:/Users/Administrator/workspace/xgboost-win64_release_1.4.0/src/learner.cc:1095: Starting in XGBoost 1.3.0, the default evaluation metric used with the objective 'multi:softprob' was changed from 'merror' to 'mlogloss'. Explicitly set eval_metric if you'd like to restore the old behavior.\n"
     ]
    },
    {
     "name": "stderr",
     "output_type": "stream",
     "text": [
      "C:\\Users\\cregueir\\Anaconda3\\lib\\site-packages\\xgboost\\sklearn.py:1146: UserWarning: The use of label encoder in XGBClassifier is deprecated and will be removed in a future release. To remove this warning, do the following: 1) Pass option use_label_encoder=False when constructing XGBClassifier object; and 2) Encode your labels (y) as integers starting with 0, i.e. 0, 1, 2, ..., [num_class - 1].\n",
      "  warnings.warn(label_encoder_deprecation_msg, UserWarning)\n"
     ]
    },
    {
     "name": "stdout",
     "output_type": "stream",
     "text": [
      "[15:00:11] WARNING: C:/Users/Administrator/workspace/xgboost-win64_release_1.4.0/src/learner.cc:1095: Starting in XGBoost 1.3.0, the default evaluation metric used with the objective 'multi:softprob' was changed from 'merror' to 'mlogloss'. Explicitly set eval_metric if you'd like to restore the old behavior.\n"
     ]
    },
    {
     "name": "stderr",
     "output_type": "stream",
     "text": [
      "C:\\Users\\cregueir\\Anaconda3\\lib\\site-packages\\xgboost\\sklearn.py:1146: UserWarning: The use of label encoder in XGBClassifier is deprecated and will be removed in a future release. To remove this warning, do the following: 1) Pass option use_label_encoder=False when constructing XGBClassifier object; and 2) Encode your labels (y) as integers starting with 0, i.e. 0, 1, 2, ..., [num_class - 1].\n",
      "  warnings.warn(label_encoder_deprecation_msg, UserWarning)\n"
     ]
    },
    {
     "name": "stdout",
     "output_type": "stream",
     "text": [
      "[15:01:33] WARNING: C:/Users/Administrator/workspace/xgboost-win64_release_1.4.0/src/learner.cc:1095: Starting in XGBoost 1.3.0, the default evaluation metric used with the objective 'multi:softprob' was changed from 'merror' to 'mlogloss'. Explicitly set eval_metric if you'd like to restore the old behavior.\n"
     ]
    },
    {
     "name": "stderr",
     "output_type": "stream",
     "text": [
      "C:\\Users\\cregueir\\Anaconda3\\lib\\site-packages\\xgboost\\sklearn.py:1146: UserWarning: The use of label encoder in XGBClassifier is deprecated and will be removed in a future release. To remove this warning, do the following: 1) Pass option use_label_encoder=False when constructing XGBClassifier object; and 2) Encode your labels (y) as integers starting with 0, i.e. 0, 1, 2, ..., [num_class - 1].\n",
      "  warnings.warn(label_encoder_deprecation_msg, UserWarning)\n"
     ]
    },
    {
     "name": "stdout",
     "output_type": "stream",
     "text": [
      "[15:02:56] WARNING: C:/Users/Administrator/workspace/xgboost-win64_release_1.4.0/src/learner.cc:1095: Starting in XGBoost 1.3.0, the default evaluation metric used with the objective 'multi:softprob' was changed from 'merror' to 'mlogloss'. Explicitly set eval_metric if you'd like to restore the old behavior.\n"
     ]
    },
    {
     "name": "stderr",
     "output_type": "stream",
     "text": [
      "C:\\Users\\cregueir\\Anaconda3\\lib\\site-packages\\xgboost\\sklearn.py:1146: UserWarning: The use of label encoder in XGBClassifier is deprecated and will be removed in a future release. To remove this warning, do the following: 1) Pass option use_label_encoder=False when constructing XGBClassifier object; and 2) Encode your labels (y) as integers starting with 0, i.e. 0, 1, 2, ..., [num_class - 1].\n",
      "  warnings.warn(label_encoder_deprecation_msg, UserWarning)\n"
     ]
    },
    {
     "name": "stdout",
     "output_type": "stream",
     "text": [
      "[15:04:17] WARNING: C:/Users/Administrator/workspace/xgboost-win64_release_1.4.0/src/learner.cc:1095: Starting in XGBoost 1.3.0, the default evaluation metric used with the objective 'multi:softprob' was changed from 'merror' to 'mlogloss'. Explicitly set eval_metric if you'd like to restore the old behavior.\n"
     ]
    },
    {
     "name": "stderr",
     "output_type": "stream",
     "text": [
      "C:\\Users\\cregueir\\Anaconda3\\lib\\site-packages\\xgboost\\sklearn.py:1146: UserWarning: The use of label encoder in XGBClassifier is deprecated and will be removed in a future release. To remove this warning, do the following: 1) Pass option use_label_encoder=False when constructing XGBClassifier object; and 2) Encode your labels (y) as integers starting with 0, i.e. 0, 1, 2, ..., [num_class - 1].\n",
      "  warnings.warn(label_encoder_deprecation_msg, UserWarning)\n"
     ]
    },
    {
     "name": "stdout",
     "output_type": "stream",
     "text": [
      "[15:05:40] WARNING: C:/Users/Administrator/workspace/xgboost-win64_release_1.4.0/src/learner.cc:1095: Starting in XGBoost 1.3.0, the default evaluation metric used with the objective 'multi:softprob' was changed from 'merror' to 'mlogloss'. Explicitly set eval_metric if you'd like to restore the old behavior.\n"
     ]
    },
    {
     "name": "stderr",
     "output_type": "stream",
     "text": [
      "C:\\Users\\cregueir\\Anaconda3\\lib\\site-packages\\xgboost\\sklearn.py:1146: UserWarning: The use of label encoder in XGBClassifier is deprecated and will be removed in a future release. To remove this warning, do the following: 1) Pass option use_label_encoder=False when constructing XGBClassifier object; and 2) Encode your labels (y) as integers starting with 0, i.e. 0, 1, 2, ..., [num_class - 1].\n",
      "  warnings.warn(label_encoder_deprecation_msg, UserWarning)\n"
     ]
    },
    {
     "name": "stdout",
     "output_type": "stream",
     "text": [
      "[15:07:01] WARNING: C:/Users/Administrator/workspace/xgboost-win64_release_1.4.0/src/learner.cc:1095: Starting in XGBoost 1.3.0, the default evaluation metric used with the objective 'multi:softprob' was changed from 'merror' to 'mlogloss'. Explicitly set eval_metric if you'd like to restore the old behavior.\n"
     ]
    },
    {
     "name": "stderr",
     "output_type": "stream",
     "text": [
      "C:\\Users\\cregueir\\Anaconda3\\lib\\site-packages\\xgboost\\sklearn.py:1146: UserWarning: The use of label encoder in XGBClassifier is deprecated and will be removed in a future release. To remove this warning, do the following: 1) Pass option use_label_encoder=False when constructing XGBClassifier object; and 2) Encode your labels (y) as integers starting with 0, i.e. 0, 1, 2, ..., [num_class - 1].\n",
      "  warnings.warn(label_encoder_deprecation_msg, UserWarning)\n"
     ]
    },
    {
     "name": "stdout",
     "output_type": "stream",
     "text": [
      "[15:08:22] WARNING: C:/Users/Administrator/workspace/xgboost-win64_release_1.4.0/src/learner.cc:1095: Starting in XGBoost 1.3.0, the default evaluation metric used with the objective 'multi:softprob' was changed from 'merror' to 'mlogloss'. Explicitly set eval_metric if you'd like to restore the old behavior.\n"
     ]
    },
    {
     "name": "stderr",
     "output_type": "stream",
     "text": [
      "C:\\Users\\cregueir\\Anaconda3\\lib\\site-packages\\xgboost\\sklearn.py:1146: UserWarning: The use of label encoder in XGBClassifier is deprecated and will be removed in a future release. To remove this warning, do the following: 1) Pass option use_label_encoder=False when constructing XGBClassifier object; and 2) Encode your labels (y) as integers starting with 0, i.e. 0, 1, 2, ..., [num_class - 1].\n",
      "  warnings.warn(label_encoder_deprecation_msg, UserWarning)\n"
     ]
    },
    {
     "name": "stdout",
     "output_type": "stream",
     "text": [
      "[15:09:44] WARNING: C:/Users/Administrator/workspace/xgboost-win64_release_1.4.0/src/learner.cc:1095: Starting in XGBoost 1.3.0, the default evaluation metric used with the objective 'multi:softprob' was changed from 'merror' to 'mlogloss'. Explicitly set eval_metric if you'd like to restore the old behavior.\n"
     ]
    },
    {
     "name": "stderr",
     "output_type": "stream",
     "text": [
      "C:\\Users\\cregueir\\Anaconda3\\lib\\site-packages\\xgboost\\sklearn.py:1146: UserWarning: The use of label encoder in XGBClassifier is deprecated and will be removed in a future release. To remove this warning, do the following: 1) Pass option use_label_encoder=False when constructing XGBClassifier object; and 2) Encode your labels (y) as integers starting with 0, i.e. 0, 1, 2, ..., [num_class - 1].\n",
      "  warnings.warn(label_encoder_deprecation_msg, UserWarning)\n"
     ]
    },
    {
     "name": "stdout",
     "output_type": "stream",
     "text": [
      "[15:11:07] WARNING: C:/Users/Administrator/workspace/xgboost-win64_release_1.4.0/src/learner.cc:1095: Starting in XGBoost 1.3.0, the default evaluation metric used with the objective 'multi:softprob' was changed from 'merror' to 'mlogloss'. Explicitly set eval_metric if you'd like to restore the old behavior.\n",
      "XGBoost accuracy => 0.6390298768080507\n",
      "0.6390298768080507\n",
      "0.04630573917910128\n"
     ]
    }
   ],
   "source": [
    "use_label_encoder=False\n",
    "models = {\n",
    "    \"neighbors\": KNeighborsClassifier(),\n",
    "    \"histboosting\": HistGradientBoostingClassifier(),\n",
    "    \"histboosting0.2\": HistGradientBoostingClassifier(learning_rate=0.25),\n",
    "    \"forest300,50\": RandomForestClassifier(n_estimators=300, max_depth=10),#,class_weight=\"balanced\"),\n",
    "    \"Gradientboosting\" : GradientBoostingClassifier(),\n",
    "    \"XGBoost\": XGBClassifier(n_estimators = 100)\n",
    "}\n",
    "for name, model in models.items():\n",
    "    scores = cross_val_score(model, X_train_res, y_train_res, cv=10)\n",
    "    print(f\"{name} accuracy => {np.mean(scores)}\")\n",
    "    print(scores.mean())\n",
    "    print(scores.std())"
   ]
  },
  {
   "cell_type": "markdown",
   "metadata": {
    "id": "Quo2-O28r2wj"
   },
   "source": [
    "NEIGHBORS"
   ]
  },
  {
   "cell_type": "code",
   "execution_count": 36,
   "metadata": {
    "id": "dJQ1PUEvr2wj"
   },
   "outputs": [
    {
     "name": "stdout",
     "output_type": "stream",
     "text": [
      "0.8253563307636848\n",
      "0.32889686764887954\n"
     ]
    }
   ],
   "source": [
    "neighbors = KNeighborsClassifier().fit(X_train_res, y_train_res)\n",
    "print(neighbors.score(X_train_res, y_train_res))\n",
    "print(neighbors.score(X_test, y_test))"
   ]
  },
  {
   "cell_type": "markdown",
   "metadata": {
    "id": "sgOaZnEBr2wk"
   },
   "source": [
    "HIST GRADIENT BOOSTING"
   ]
  },
  {
   "cell_type": "code",
   "execution_count": 37,
   "metadata": {
    "id": "uUQ7gLDvr2wl"
   },
   "outputs": [
    {
     "name": "stdout",
     "output_type": "stream",
     "text": [
      "0.6914018449706986\n",
      "0.45196236226321657\n"
     ]
    }
   ],
   "source": [
    "hist = HistGradientBoostingClassifier(learning_rate=0.2).fit(X_train_res, y_train_res)\n",
    "print(hist.score(X_train_res, y_train_res))\n",
    "print(hist.score(X_test, y_test))"
   ]
  },
  {
   "cell_type": "markdown",
   "metadata": {
    "id": "awtRuLy4eW1F"
   },
   "source": [
    "RANDOM FOREST"
   ]
  },
  {
   "cell_type": "code",
   "execution_count": 38,
   "metadata": {},
   "outputs": [
    {
     "name": "stdout",
     "output_type": "stream",
     "text": [
      "0.5660298005287191\n",
      "0.2873591680079237\n"
     ]
    }
   ],
   "source": [
    "forest = RandomForestClassifier(n_estimators=300, max_depth=10).fit(X_train_res, y_train_res)\n",
    "print(forest.score(X_train_res, y_train_res))\n",
    "print(forest.score(X_test, y_test))"
   ]
  },
  {
   "cell_type": "markdown",
   "metadata": {},
   "source": [
    "GRADIENT BOOSTING"
   ]
  },
  {
   "cell_type": "code",
   "execution_count": 39,
   "metadata": {},
   "outputs": [
    {
     "name": "stdout",
     "output_type": "stream",
     "text": [
      "0.43145138927402804\n",
      "0.30110189426767364\n"
     ]
    }
   ],
   "source": [
    "grad = GradientBoostingClassifier().fit(X_train_res, y_train_res)\n",
    "print(grad.score(X_train_res, y_train_res))\n",
    "print(grad.score(X_test, y_test))"
   ]
  },
  {
   "cell_type": "markdown",
   "metadata": {
    "id": "SXdBL8V1eW1F"
   },
   "source": [
    "XGBOOST"
   ]
  },
  {
   "cell_type": "code",
   "execution_count": 34,
   "metadata": {},
   "outputs": [
    {
     "name": "stdout",
     "output_type": "stream",
     "text": [
      "[17:01:35] WARNING: C:/Users/Administrator/workspace/xgboost-win64_release_1.4.0/src/learner.cc:1095: Starting in XGBoost 1.3.0, the default evaluation metric used with the objective 'multi:softprob' was changed from 'merror' to 'mlogloss'. Explicitly set eval_metric if you'd like to restore the old behavior.\n",
      "0.7901761780637051\n",
      "0.5040856753745202\n"
     ]
    }
   ],
   "source": [
    "use_label_encoder=False\n",
    "xgb = XGBClassifier(n_estimators = 300).fit(X_train_res, y_train_res)\n",
    "print(xgb.score(X_train_res, y_train_res))\n",
    "print(xgb.score(X_test, y_test))"
   ]
  },
  {
   "cell_type": "code",
   "execution_count": null,
   "metadata": {},
   "outputs": [],
   "source": []
  },
  {
   "cell_type": "markdown",
   "metadata": {},
   "source": [
    "GRID SEARCH"
   ]
  },
  {
   "cell_type": "code",
   "execution_count": null,
   "metadata": {},
   "outputs": [],
   "source": [
    "use_label_encoder=False\n",
    "# Grid de hiperparámetros evaluados\n",
    "# ==============================================================================\n",
    "param_grid = {'n_estimators'  : [300, 500],\n",
    "              'max_depth'     : [3, 5],\n",
    "            }\n",
    "\n",
    "# Búsqueda por grid search con validación cruzada\n",
    "# ==============================================================================\n",
    "grid = GridSearchCV(\n",
    "        estimator  = XGBClassifier(random_state=123),\n",
    "        param_grid = param_grid,\n",
    "        scoring    = 'accuracy',\n",
    "        cv         = RepeatedKFold(n_splits=3, n_repeats=1, random_state=123), \n",
    "        refit      = True,\n",
    "        verbose    = 0,\n",
    "        return_train_score = True\n",
    "       )\n",
    "\n",
    "grid.fit(X = X_train_res, y = y_train_res)\n",
    "\n",
    "# Resultados\n",
    "# ==============================================================================\n",
    "resultados = pd.DataFrame(grid.cv_results_)\n",
    "resultados.filter(regex = '(param*|mean_t|std_t)') \\\n",
    "    .drop(columns = 'params') \\\n",
    "    .sort_values('mean_test_score', ascending = False) \\\n",
    "    .head(4)"
   ]
  },
  {
   "cell_type": "markdown",
   "metadata": {},
   "source": [
    "CROSS VALIDATION ON SELECTED MODEL (XGBOOST)"
   ]
  },
  {
   "cell_type": "code",
   "execution_count": 41,
   "metadata": {},
   "outputs": [
    {
     "name": "stderr",
     "output_type": "stream",
     "text": [
      "C:\\Users\\cregueir\\Anaconda3\\lib\\site-packages\\xgboost\\sklearn.py:1146: UserWarning: The use of label encoder in XGBClassifier is deprecated and will be removed in a future release. To remove this warning, do the following: 1) Pass option use_label_encoder=False when constructing XGBClassifier object; and 2) Encode your labels (y) as integers starting with 0, i.e. 0, 1, 2, ..., [num_class - 1].\n",
      "  warnings.warn(label_encoder_deprecation_msg, UserWarning)\n"
     ]
    },
    {
     "name": "stdout",
     "output_type": "stream",
     "text": [
      "[15:24:08] WARNING: C:/Users/Administrator/workspace/xgboost-win64_release_1.4.0/src/learner.cc:1095: Starting in XGBoost 1.3.0, the default evaluation metric used with the objective 'multi:softprob' was changed from 'merror' to 'mlogloss'. Explicitly set eval_metric if you'd like to restore the old behavior.\n"
     ]
    },
    {
     "name": "stderr",
     "output_type": "stream",
     "text": [
      "C:\\Users\\cregueir\\Anaconda3\\lib\\site-packages\\xgboost\\sklearn.py:1146: UserWarning: The use of label encoder in XGBClassifier is deprecated and will be removed in a future release. To remove this warning, do the following: 1) Pass option use_label_encoder=False when constructing XGBClassifier object; and 2) Encode your labels (y) as integers starting with 0, i.e. 0, 1, 2, ..., [num_class - 1].\n",
      "  warnings.warn(label_encoder_deprecation_msg, UserWarning)\n"
     ]
    },
    {
     "name": "stdout",
     "output_type": "stream",
     "text": [
      "[15:28:31] WARNING: C:/Users/Administrator/workspace/xgboost-win64_release_1.4.0/src/learner.cc:1095: Starting in XGBoost 1.3.0, the default evaluation metric used with the objective 'multi:softprob' was changed from 'merror' to 'mlogloss'. Explicitly set eval_metric if you'd like to restore the old behavior.\n"
     ]
    },
    {
     "name": "stderr",
     "output_type": "stream",
     "text": [
      "C:\\Users\\cregueir\\Anaconda3\\lib\\site-packages\\xgboost\\sklearn.py:1146: UserWarning: The use of label encoder in XGBClassifier is deprecated and will be removed in a future release. To remove this warning, do the following: 1) Pass option use_label_encoder=False when constructing XGBClassifier object; and 2) Encode your labels (y) as integers starting with 0, i.e. 0, 1, 2, ..., [num_class - 1].\n",
      "  warnings.warn(label_encoder_deprecation_msg, UserWarning)\n"
     ]
    },
    {
     "name": "stdout",
     "output_type": "stream",
     "text": [
      "[15:32:47] WARNING: C:/Users/Administrator/workspace/xgboost-win64_release_1.4.0/src/learner.cc:1095: Starting in XGBoost 1.3.0, the default evaluation metric used with the objective 'multi:softprob' was changed from 'merror' to 'mlogloss'. Explicitly set eval_metric if you'd like to restore the old behavior.\n"
     ]
    },
    {
     "name": "stderr",
     "output_type": "stream",
     "text": [
      "C:\\Users\\cregueir\\Anaconda3\\lib\\site-packages\\xgboost\\sklearn.py:1146: UserWarning: The use of label encoder in XGBClassifier is deprecated and will be removed in a future release. To remove this warning, do the following: 1) Pass option use_label_encoder=False when constructing XGBClassifier object; and 2) Encode your labels (y) as integers starting with 0, i.e. 0, 1, 2, ..., [num_class - 1].\n",
      "  warnings.warn(label_encoder_deprecation_msg, UserWarning)\n"
     ]
    },
    {
     "name": "stdout",
     "output_type": "stream",
     "text": [
      "[15:37:34] WARNING: C:/Users/Administrator/workspace/xgboost-win64_release_1.4.0/src/learner.cc:1095: Starting in XGBoost 1.3.0, the default evaluation metric used with the objective 'multi:softprob' was changed from 'merror' to 'mlogloss'. Explicitly set eval_metric if you'd like to restore the old behavior.\n"
     ]
    },
    {
     "name": "stderr",
     "output_type": "stream",
     "text": [
      "C:\\Users\\cregueir\\Anaconda3\\lib\\site-packages\\xgboost\\sklearn.py:1146: UserWarning: The use of label encoder in XGBClassifier is deprecated and will be removed in a future release. To remove this warning, do the following: 1) Pass option use_label_encoder=False when constructing XGBClassifier object; and 2) Encode your labels (y) as integers starting with 0, i.e. 0, 1, 2, ..., [num_class - 1].\n",
      "  warnings.warn(label_encoder_deprecation_msg, UserWarning)\n"
     ]
    },
    {
     "name": "stdout",
     "output_type": "stream",
     "text": [
      "[15:43:16] WARNING: C:/Users/Administrator/workspace/xgboost-win64_release_1.4.0/src/learner.cc:1095: Starting in XGBoost 1.3.0, the default evaluation metric used with the objective 'multi:softprob' was changed from 'merror' to 'mlogloss'. Explicitly set eval_metric if you'd like to restore the old behavior.\n"
     ]
    },
    {
     "name": "stderr",
     "output_type": "stream",
     "text": [
      "C:\\Users\\cregueir\\Anaconda3\\lib\\site-packages\\xgboost\\sklearn.py:1146: UserWarning: The use of label encoder in XGBClassifier is deprecated and will be removed in a future release. To remove this warning, do the following: 1) Pass option use_label_encoder=False when constructing XGBClassifier object; and 2) Encode your labels (y) as integers starting with 0, i.e. 0, 1, 2, ..., [num_class - 1].\n",
      "  warnings.warn(label_encoder_deprecation_msg, UserWarning)\n"
     ]
    },
    {
     "name": "stdout",
     "output_type": "stream",
     "text": [
      "[15:48:28] WARNING: C:/Users/Administrator/workspace/xgboost-win64_release_1.4.0/src/learner.cc:1095: Starting in XGBoost 1.3.0, the default evaluation metric used with the objective 'multi:softprob' was changed from 'merror' to 'mlogloss'. Explicitly set eval_metric if you'd like to restore the old behavior.\n"
     ]
    },
    {
     "name": "stderr",
     "output_type": "stream",
     "text": [
      "C:\\Users\\cregueir\\Anaconda3\\lib\\site-packages\\xgboost\\sklearn.py:1146: UserWarning: The use of label encoder in XGBClassifier is deprecated and will be removed in a future release. To remove this warning, do the following: 1) Pass option use_label_encoder=False when constructing XGBClassifier object; and 2) Encode your labels (y) as integers starting with 0, i.e. 0, 1, 2, ..., [num_class - 1].\n",
      "  warnings.warn(label_encoder_deprecation_msg, UserWarning)\n"
     ]
    },
    {
     "name": "stdout",
     "output_type": "stream",
     "text": [
      "[15:53:49] WARNING: C:/Users/Administrator/workspace/xgboost-win64_release_1.4.0/src/learner.cc:1095: Starting in XGBoost 1.3.0, the default evaluation metric used with the objective 'multi:softprob' was changed from 'merror' to 'mlogloss'. Explicitly set eval_metric if you'd like to restore the old behavior.\n"
     ]
    },
    {
     "name": "stderr",
     "output_type": "stream",
     "text": [
      "C:\\Users\\cregueir\\Anaconda3\\lib\\site-packages\\xgboost\\sklearn.py:1146: UserWarning: The use of label encoder in XGBClassifier is deprecated and will be removed in a future release. To remove this warning, do the following: 1) Pass option use_label_encoder=False when constructing XGBClassifier object; and 2) Encode your labels (y) as integers starting with 0, i.e. 0, 1, 2, ..., [num_class - 1].\n",
      "  warnings.warn(label_encoder_deprecation_msg, UserWarning)\n"
     ]
    },
    {
     "name": "stdout",
     "output_type": "stream",
     "text": [
      "[15:59:06] WARNING: C:/Users/Administrator/workspace/xgboost-win64_release_1.4.0/src/learner.cc:1095: Starting in XGBoost 1.3.0, the default evaluation metric used with the objective 'multi:softprob' was changed from 'merror' to 'mlogloss'. Explicitly set eval_metric if you'd like to restore the old behavior.\n"
     ]
    },
    {
     "name": "stderr",
     "output_type": "stream",
     "text": [
      "C:\\Users\\cregueir\\Anaconda3\\lib\\site-packages\\xgboost\\sklearn.py:1146: UserWarning: The use of label encoder in XGBClassifier is deprecated and will be removed in a future release. To remove this warning, do the following: 1) Pass option use_label_encoder=False when constructing XGBClassifier object; and 2) Encode your labels (y) as integers starting with 0, i.e. 0, 1, 2, ..., [num_class - 1].\n",
      "  warnings.warn(label_encoder_deprecation_msg, UserWarning)\n"
     ]
    },
    {
     "name": "stdout",
     "output_type": "stream",
     "text": [
      "[16:04:26] WARNING: C:/Users/Administrator/workspace/xgboost-win64_release_1.4.0/src/learner.cc:1095: Starting in XGBoost 1.3.0, the default evaluation metric used with the objective 'multi:softprob' was changed from 'merror' to 'mlogloss'. Explicitly set eval_metric if you'd like to restore the old behavior.\n"
     ]
    },
    {
     "name": "stderr",
     "output_type": "stream",
     "text": [
      "C:\\Users\\cregueir\\Anaconda3\\lib\\site-packages\\xgboost\\sklearn.py:1146: UserWarning: The use of label encoder in XGBClassifier is deprecated and will be removed in a future release. To remove this warning, do the following: 1) Pass option use_label_encoder=False when constructing XGBClassifier object; and 2) Encode your labels (y) as integers starting with 0, i.e. 0, 1, 2, ..., [num_class - 1].\n",
      "  warnings.warn(label_encoder_deprecation_msg, UserWarning)\n"
     ]
    },
    {
     "name": "stdout",
     "output_type": "stream",
     "text": [
      "[16:09:35] WARNING: C:/Users/Administrator/workspace/xgboost-win64_release_1.4.0/src/learner.cc:1095: Starting in XGBoost 1.3.0, the default evaluation metric used with the objective 'multi:softprob' was changed from 'merror' to 'mlogloss'. Explicitly set eval_metric if you'd like to restore the old behavior.\n",
      "[0.55758388 0.63892227 0.70430281 0.72311319 0.73147849 0.74515876\n",
      " 0.74631418 0.75001155 0.73623885 0.74511254]\n",
      "0.707823651586881\n",
      "0.05914240607468446\n"
     ]
    }
   ],
   "source": [
    "use_label_encoder=False\n",
    "cross_val_xgb = cross_val_score(xgb, X_train_res, y_train_res, cv=10)\n",
    "print(cross_val_xgb)\n",
    "print(cross_val_xgb.mean())\n",
    "print(cross_val_xgb.std())"
   ]
  },
  {
   "cell_type": "code",
   "execution_count": 40,
   "metadata": {},
   "outputs": [
    {
     "data": {
      "text/plain": [
       "XGBClassifier(base_score=0.5, booster='gbtree', colsample_bylevel=1,\n",
       "              colsample_bynode=1, colsample_bytree=1, gamma=0, gpu_id=-1,\n",
       "              importance_type='gain', interaction_constraints='',\n",
       "              learning_rate=0.300000012, max_delta_step=0, max_depth=6,\n",
       "              min_child_weight=1, missing=nan, monotone_constraints='()',\n",
       "              n_estimators=300, n_jobs=8, num_parallel_tree=1,\n",
       "              objective='multi:softprob', random_state=0, reg_alpha=0,\n",
       "              reg_lambda=1, scale_pos_weight=None, subsample=1,\n",
       "              tree_method='exact', validate_parameters=1, verbosity=None)"
      ]
     },
     "execution_count": 40,
     "metadata": {},
     "output_type": "execute_result"
    }
   ],
   "source": []
  },
  {
   "cell_type": "markdown",
   "metadata": {},
   "source": [
    "EXPORT MODEL"
   ]
  },
  {
   "cell_type": "code",
   "execution_count": 36,
   "metadata": {},
   "outputs": [],
   "source": [
    "import pickle"
   ]
  },
  {
   "cell_type": "code",
   "execution_count": 37,
   "metadata": {},
   "outputs": [],
   "source": [
    "pickle.dump(xgb, open(\"pima.pickle.dat\", \"wb\"))"
   ]
  },
  {
   "cell_type": "code",
   "execution_count": null,
   "metadata": {},
   "outputs": [],
   "source": []
  },
  {
   "cell_type": "code",
   "execution_count": null,
   "metadata": {},
   "outputs": [],
   "source": []
  },
  {
   "cell_type": "code",
   "execution_count": null,
   "metadata": {},
   "outputs": [],
   "source": []
  },
  {
   "cell_type": "code",
   "execution_count": null,
   "metadata": {},
   "outputs": [],
   "source": []
  }
 ],
 "metadata": {
  "accelerator": "GPU",
  "colab": {
   "collapsed_sections": [],
   "name": "final.ipynb",
   "provenance": []
  },
  "kernelspec": {
   "display_name": "Python 3 (ipykernel)",
   "language": "python",
   "name": "python3"
  },
  "language_info": {
   "codemirror_mode": {
    "name": "ipython",
    "version": 3
   },
   "file_extension": ".py",
   "mimetype": "text/x-python",
   "name": "python",
   "nbconvert_exporter": "python",
   "pygments_lexer": "ipython3",
   "version": "3.8.11"
  }
 },
 "nbformat": 4,
 "nbformat_minor": 4
}
